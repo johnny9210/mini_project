{
 "cells": [
  {
   "cell_type": "code",
   "execution_count": null,
   "metadata": {},
   "outputs": [],
   "source": [
    "from selenium import webdriver\n",
    "import time\n",
    "from bs4 import BeautifulSoup"
   ]
  },
  {
   "cell_type": "code",
   "execution_count": null,
   "metadata": {},
   "outputs": [],
   "source": [
    "## interpark connect\n",
    "driver = webdriver.Chrome(\"./chromedriver.exe\")\n",
    "driver.get(\"http://www.interpark.com/malls/index.html?gateTp=1\")\n",
    "\n",
    "tag =driver.find_element_by_xpath(\"/html/body/div[1]/div[4]/div/div[2]/div/div[1]/label/input\")\n",
    "\n",
    "\n",
    "# tag.clear()  # 혹시 내용이 있으면 삭제\n",
    "\n",
    "tag.send_keys(\"파리\")  # 입력\n",
    "#전송 버튼 클릭 \n",
    "btn=driver.find_element_by_xpath('/html/body/div[1]/div[4]/div/div[2]/div/div[1]/button')\n",
    "btn.click()"
   ]
  },
  {
   "cell_type": "code",
   "execution_count": null,
   "metadata": {},
   "outputs": [],
   "source": [
    "## crawling data \n",
    "for i in range(1,11):\n",
    "    print(driver.find_element_by_xpath('//*[@id=\"_TOURListLi\"]/li[{}]/div[2]/div[1]/span'.format(i)).text)\n",
    "    print(driver.find_element_by_xpath('//*[@id=\"_TOURListLi\"]/li[{}]/div[2]/div[1]/a'.format(i)).text)\n",
    "    print(driver.find_element_by_xpath('//*[@id=\"_TOURListLi\"]/li[{}]/div[2]/div[1]/div[2]/span/strong'.format(i)).text)\n",
    "    print('=========================================')"
   ]
  },
  {
   "cell_type": "code",
   "execution_count": null,
   "metadata": {},
   "outputs": [],
   "source": [
    "html = driver.page_source\n",
    "soup = BeautifulSoup(html, 'html.parser')\n",
    "\n",
    "print(soup)"
   ]
  },
  {
   "cell_type": "code",
   "execution_count": null,
   "metadata": {},
   "outputs": [],
   "source": [
    "data = soup.select_one('ul#_TOURListLi')"
   ]
  },
  {
   "cell_type": "code",
   "execution_count": null,
   "metadata": {},
   "outputs": [],
   "source": [
    "name=[]\n",
    "for i in data.select('li .name'):\n",
    "    name.append(i.text)"
   ]
  },
  {
   "cell_type": "code",
   "execution_count": null,
   "metadata": {},
   "outputs": [],
   "source": [
    "price=[]\n",
    "for i in data.select('div.price'):\n",
    "    price.append(i.text)"
   ]
  },
  {
   "cell_type": "code",
   "execution_count": null,
   "metadata": {},
   "outputs": [],
   "source": [
    "for i in zip(name,price):\n",
    "    print(i)"
   ]
  },
  {
   "cell_type": "code",
   "execution_count": null,
   "metadata": {},
   "outputs": [],
   "source": []
  }
 ],
 "metadata": {
  "kernelspec": {
   "display_name": "Python 3",
   "language": "python",
   "name": "python3"
  },
  "language_info": {
   "codemirror_mode": {
    "name": "ipython",
    "version": 3
   },
   "file_extension": ".py",
   "mimetype": "text/x-python",
   "name": "python",
   "nbconvert_exporter": "python",
   "pygments_lexer": "ipython3",
   "version": "3.8.5"
  }
 },
 "nbformat": 4,
 "nbformat_minor": 4
}
